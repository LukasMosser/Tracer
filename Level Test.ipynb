{
 "cells": [
  {
   "cell_type": "code",
   "execution_count": 2,
   "metadata": {
    "collapsed": false
   },
   "outputs": [],
   "source": [
    "%load_ext autoreload\n",
    "%autoreload"
   ]
  },
  {
   "cell_type": "code",
   "execution_count": 32,
   "metadata": {
    "collapsed": true
   },
   "outputs": [],
   "source": [
    "from trace import Trace\n",
    "import numpy as np\n",
    "from numpy.random import randint, normal, uniform\n",
    "\n",
    "class Level(object):\n",
    "    def __init__(self, peaks, dim):\n",
    "        self.dim = dim\n",
    "        self.peaks = peaks\n",
    "        self.previous_trace = None\n",
    "        self.current_trace = None\n",
    "        self.next_trace = None\n",
    "        \n",
    "        self.top_pad = 10\n",
    "        self.bottom_pad = 10\n",
    "        \n",
    "        self.level_params = {\"switch_probability\": 0.05, \"peak_shift_distance_min\": 3, \"peak_shift_distance_max\": 10, \"peak_shift_spread\": 1.0}\n",
    "\n",
    "    def initial_trace(self):\n",
    "        self.current_trace = Trace(self.peaks)\n",
    "        self.current_trace.peaks = randint(0, high=self.dim, size=self.peaks)\n",
    "\n",
    "    def get_next_trace(self):\n",
    "        new_trace = Trace(self.peaks)\n",
    "        for i, (current_peak, next_peak) in enumerate(zip(self.current_trace.peaks, new_trace.peaks)):\n",
    "            new_pos = self.get_new_peak_position(current_peak)\n",
    "            while new_pos <= self.bottom_pad or new_pos >= self.dim-self.top_pad:\n",
    "                new_pos = self.get_new_peak_position(current_peak)\n",
    "            new_trace.peaks[i] = new_pos\n",
    "        return new_trace\n",
    "\n",
    "    def get_new_peak_position(self, current_pos):\n",
    "        switch = 1\n",
    "        if uniform() < self.level_params[\"switch_probability\"]:\n",
    "            switch = -1\n",
    "        peak_shift_distance = randint(self.level_params[\"peak_shift_distance_min\"], high=self.level_params[\"peak_shift_distance_max\"])\n",
    "        shift = int(normal(loc=0.0,scale=self.level_params[\"peak_shift_spread\"])*peak_shift_distance*switch)\n",
    "        new_pos = current_pos+shift\n",
    "        return new_pos\n",
    "    \n",
    "    \n",
    "    def push_next_trace(self):\n",
    "        self.previous_trace = self.current_trace\n",
    "        self.current_trace = self.get_next_trace()"
   ]
  },
  {
   "cell_type": "code",
   "execution_count": 33,
   "metadata": {
    "collapsed": false
   },
   "outputs": [
    {
     "name": "stdout",
     "output_type": "stream",
     "text": [
      "[366]\n",
      "[362]\n",
      "[356]\n",
      "[368]\n",
      "[368]\n",
      "[366]\n",
      "[372]\n",
      "[386]\n",
      "[388]\n",
      "[403]\n",
      "[405]\n"
     ]
    }
   ],
   "source": [
    "new_level = Level(1, 800)\n",
    "new_level.initial_trace()\n",
    "print new_level.current_trace.peaks\n",
    "for i in range(10):\n",
    "    new_level.push_next_trace()\n",
    "    print new_level.current_trace.peaks\n",
    "    "
   ]
  },
  {
   "cell_type": "code",
   "execution_count": null,
   "metadata": {
    "collapsed": true
   },
   "outputs": [],
   "source": []
  }
 ],
 "metadata": {
  "kernelspec": {
   "display_name": "Python 2",
   "language": "python",
   "name": "python2"
  },
  "language_info": {
   "codemirror_mode": {
    "name": "ipython",
    "version": 2
   },
   "file_extension": ".py",
   "mimetype": "text/x-python",
   "name": "python",
   "nbconvert_exporter": "python",
   "pygments_lexer": "ipython2",
   "version": "2.7.11"
  }
 },
 "nbformat": 4,
 "nbformat_minor": 0
}
